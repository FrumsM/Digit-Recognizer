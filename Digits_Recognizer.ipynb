{
  "cells": [
    {
      "cell_type": "markdown",
      "metadata": {
        "id": "view-in-github",
        "colab_type": "text"
      },
      "source": [
        "<a href=\"https://colab.research.google.com/github/FrumsM/Digit-Recognizer/blob/main/Digits_Recognizer.ipynb\" target=\"_parent\"><img src=\"https://colab.research.google.com/assets/colab-badge.svg\" alt=\"Open In Colab\"/></a>"
      ]
    },
    {
      "cell_type": "markdown",
      "source": [
        "# Introduction"
      ],
      "metadata": {
        "id": "PZGCloGuPWZh"
      }
    },
    {
      "cell_type": "markdown",
      "source": [
        "**The project is based on participating in a Kaggle competition:** https://www.kaggle.com/competitions/digit-recognizer/overview\n",
        "\n",
        "MNIST (\"Modified National Institute of Standards and Technology\") is the de facto “hello world” dataset of computer vision. Since its release in 1999, this classic dataset of handwritten images has served as the basis for benchmarking classification algorithms. As new machine learning techniques emerge, MNIST remains a reliable resource for researchers and learners alike.\n",
        "\n",
        "The goal is to correctly identify digits from a dataset of tens of thousands of handwritten images.\n",
        "\n",
        "To achieve this objective, I developed an 9-layer Sequential Convolutional Neural Network. I opted to use the Keras API with the TensorFlow backend, which offers an intuitive approach. Initially, I preprocessed the data, consisting of handwritten digit images, and concentrated on constructing and evaluating the CNN model.\n",
        "\n",
        "Description of datasets:\n",
        "\n",
        "* df_train: training dataset;\n",
        "\n",
        "* df_test: test dataset;\n",
        "\n",
        "* submission: sample submission file in the correct format.\n",
        "\n",
        "Mertic: Accuracy\n",
        "\n"
      ],
      "metadata": {
        "id": "89iJmAmyPbXM"
      }
    },
    {
      "cell_type": "markdown",
      "metadata": {
        "id": "SjiE5USpLvd5"
      },
      "source": [
        "# Import libraries"
      ]
    },
    {
      "cell_type": "code",
      "execution_count": null,
      "metadata": {
        "colab": {
          "base_uri": "https://localhost:8080/"
        },
        "id": "X8nYa444ZHFx",
        "outputId": "dfe968fc-8f49-4e5f-871b-a8c4c1649859"
      },
      "outputs": [
        {
          "output_type": "stream",
          "name": "stdout",
          "text": [
            "Collecting keras-tuner\n",
            "  Downloading keras_tuner-1.3.5-py3-none-any.whl (176 kB)\n",
            "\u001b[2K     \u001b[90m━━━━━━━━━━━━━━━━━━━━━━━━━━━━━━━━━━━━━━━\u001b[0m \u001b[32m176.1/176.1 kB\u001b[0m \u001b[31m1.3 MB/s\u001b[0m eta \u001b[36m0:00:00\u001b[0m\n",
            "\u001b[?25hRequirement already satisfied: packaging in /usr/local/lib/python3.10/dist-packages (from keras-tuner) (23.1)\n",
            "Requirement already satisfied: requests in /usr/local/lib/python3.10/dist-packages (from keras-tuner) (2.27.1)\n",
            "Collecting kt-legacy (from keras-tuner)\n",
            "  Downloading kt_legacy-1.0.5-py3-none-any.whl (9.6 kB)\n",
            "Requirement already satisfied: urllib3<1.27,>=1.21.1 in /usr/local/lib/python3.10/dist-packages (from requests->keras-tuner) (1.26.16)\n",
            "Requirement already satisfied: certifi>=2017.4.17 in /usr/local/lib/python3.10/dist-packages (from requests->keras-tuner) (2023.7.22)\n",
            "Requirement already satisfied: charset-normalizer~=2.0.0 in /usr/local/lib/python3.10/dist-packages (from requests->keras-tuner) (2.0.12)\n",
            "Requirement already satisfied: idna<4,>=2.5 in /usr/local/lib/python3.10/dist-packages (from requests->keras-tuner) (3.4)\n",
            "Installing collected packages: kt-legacy, keras-tuner\n",
            "Successfully installed keras-tuner-1.3.5 kt-legacy-1.0.5\n"
          ]
        }
      ],
      "source": [
        "!pip install keras-tuner"
      ]
    },
    {
      "cell_type": "code",
      "execution_count": null,
      "metadata": {
        "id": "8cqmB1LGLlMv"
      },
      "outputs": [],
      "source": [
        "import pandas as pd\n",
        "import numpy as np\n",
        "import matplotlib.pyplot as plt\n",
        "import seaborn as sns\n",
        "from google.colab import *\n",
        "from sklearn.model_selection import train_test_split\n",
        "from PIL import Image\n",
        "\n",
        "from keras.models import Sequential\n",
        "from keras.models import load_model\n",
        "from keras.layers import Dense\n",
        "from keras.layers import Dropout\n",
        "from keras.layers import Flatten\n",
        "from keras.optimizers import Adam\n",
        "from keras.utils import np_utils, plot_model\n",
        "from keras.callbacks import EarlyStopping\n",
        "from sklearn.metrics import confusion_matrix\n",
        "\n",
        "from keras.layers.convolutional import Conv2D\n",
        "from keras.layers.convolutional import MaxPooling2D\n",
        "from keras.utils.np_utils import to_categorical\n",
        "from kerastuner.tuners import RandomSearch"
      ]
    },
    {
      "cell_type": "markdown",
      "metadata": {
        "id": "dwVx2MOZMXWO"
      },
      "source": [
        "# Load the data"
      ]
    },
    {
      "cell_type": "code",
      "execution_count": null,
      "metadata": {
        "colab": {
          "base_uri": "https://localhost:8080/"
        },
        "id": "XzkTcNPEMf6I",
        "outputId": "056c290c-4cf1-4e4d-f04b-c9e4a9bdb623"
      },
      "outputs": [
        {
          "output_type": "stream",
          "name": "stdout",
          "text": [
            "Drive already mounted at /content/drive; to attempt to forcibly remount, call drive.mount(\"/content/drive\", force_remount=True).\n"
          ]
        }
      ],
      "source": [
        "drive.mount('/content/drive')\n",
        "path1 = '/content/drive/My Drive/Datasets/digit_test.csv'\n",
        "path2 = '/content/drive/My Drive/Datasets/digit_train.csv'\n",
        "path3 = '/content/drive/My Drive/Datasets/digit_sample_submission.csv'\n",
        "df_test = pd.read_csv(path1)\n",
        "df_train = pd.read_csv(path2)\n",
        "submission = pd.read_csv(path3)"
      ]
    },
    {
      "cell_type": "code",
      "execution_count": null,
      "metadata": {
        "colab": {
          "base_uri": "https://localhost:8080/",
          "height": 280
        },
        "id": "W1ncyJx9MxfI",
        "outputId": "fd40cc74-26c7-446f-ba32-4ea5adac2a45"
      },
      "outputs": [
        {
          "output_type": "execute_result",
          "data": {
            "text/plain": [
              "       label  pixel0  pixel1  pixel2  pixel3  pixel4  pixel5  pixel6  pixel7  \\\n",
              "41471      1       0       0       0       0       0       0       0       0   \n",
              "16869      0       0       0       0       0       0       0       0       0   \n",
              "21886      5       0       0       0       0       0       0       0       0   \n",
              "14650      9       0       0       0       0       0       0       0       0   \n",
              "907        9       0       0       0       0       0       0       0       0   \n",
              "\n",
              "       pixel8  ...  pixel774  pixel775  pixel776  pixel777  pixel778  \\\n",
              "41471       0  ...         0         0         0         0         0   \n",
              "16869       0  ...         0         0         0         0         0   \n",
              "21886       0  ...         0         0         0         0         0   \n",
              "14650       0  ...         0         0         0         0         0   \n",
              "907         0  ...         0         0         0         0         0   \n",
              "\n",
              "       pixel779  pixel780  pixel781  pixel782  pixel783  \n",
              "41471         0         0         0         0         0  \n",
              "16869         0         0         0         0         0  \n",
              "21886         0         0         0         0         0  \n",
              "14650         0         0         0         0         0  \n",
              "907           0         0         0         0         0  \n",
              "\n",
              "[5 rows x 785 columns]"
            ],
            "text/html": [
              "\n",
              "\n",
              "  <div id=\"df-cee86054-419b-4d96-99ab-371d203a9982\">\n",
              "    <div class=\"colab-df-container\">\n",
              "      <div>\n",
              "<style scoped>\n",
              "    .dataframe tbody tr th:only-of-type {\n",
              "        vertical-align: middle;\n",
              "    }\n",
              "\n",
              "    .dataframe tbody tr th {\n",
              "        vertical-align: top;\n",
              "    }\n",
              "\n",
              "    .dataframe thead th {\n",
              "        text-align: right;\n",
              "    }\n",
              "</style>\n",
              "<table border=\"1\" class=\"dataframe\">\n",
              "  <thead>\n",
              "    <tr style=\"text-align: right;\">\n",
              "      <th></th>\n",
              "      <th>label</th>\n",
              "      <th>pixel0</th>\n",
              "      <th>pixel1</th>\n",
              "      <th>pixel2</th>\n",
              "      <th>pixel3</th>\n",
              "      <th>pixel4</th>\n",
              "      <th>pixel5</th>\n",
              "      <th>pixel6</th>\n",
              "      <th>pixel7</th>\n",
              "      <th>pixel8</th>\n",
              "      <th>...</th>\n",
              "      <th>pixel774</th>\n",
              "      <th>pixel775</th>\n",
              "      <th>pixel776</th>\n",
              "      <th>pixel777</th>\n",
              "      <th>pixel778</th>\n",
              "      <th>pixel779</th>\n",
              "      <th>pixel780</th>\n",
              "      <th>pixel781</th>\n",
              "      <th>pixel782</th>\n",
              "      <th>pixel783</th>\n",
              "    </tr>\n",
              "  </thead>\n",
              "  <tbody>\n",
              "    <tr>\n",
              "      <th>41471</th>\n",
              "      <td>1</td>\n",
              "      <td>0</td>\n",
              "      <td>0</td>\n",
              "      <td>0</td>\n",
              "      <td>0</td>\n",
              "      <td>0</td>\n",
              "      <td>0</td>\n",
              "      <td>0</td>\n",
              "      <td>0</td>\n",
              "      <td>0</td>\n",
              "      <td>...</td>\n",
              "      <td>0</td>\n",
              "      <td>0</td>\n",
              "      <td>0</td>\n",
              "      <td>0</td>\n",
              "      <td>0</td>\n",
              "      <td>0</td>\n",
              "      <td>0</td>\n",
              "      <td>0</td>\n",
              "      <td>0</td>\n",
              "      <td>0</td>\n",
              "    </tr>\n",
              "    <tr>\n",
              "      <th>16869</th>\n",
              "      <td>0</td>\n",
              "      <td>0</td>\n",
              "      <td>0</td>\n",
              "      <td>0</td>\n",
              "      <td>0</td>\n",
              "      <td>0</td>\n",
              "      <td>0</td>\n",
              "      <td>0</td>\n",
              "      <td>0</td>\n",
              "      <td>0</td>\n",
              "      <td>...</td>\n",
              "      <td>0</td>\n",
              "      <td>0</td>\n",
              "      <td>0</td>\n",
              "      <td>0</td>\n",
              "      <td>0</td>\n",
              "      <td>0</td>\n",
              "      <td>0</td>\n",
              "      <td>0</td>\n",
              "      <td>0</td>\n",
              "      <td>0</td>\n",
              "    </tr>\n",
              "    <tr>\n",
              "      <th>21886</th>\n",
              "      <td>5</td>\n",
              "      <td>0</td>\n",
              "      <td>0</td>\n",
              "      <td>0</td>\n",
              "      <td>0</td>\n",
              "      <td>0</td>\n",
              "      <td>0</td>\n",
              "      <td>0</td>\n",
              "      <td>0</td>\n",
              "      <td>0</td>\n",
              "      <td>...</td>\n",
              "      <td>0</td>\n",
              "      <td>0</td>\n",
              "      <td>0</td>\n",
              "      <td>0</td>\n",
              "      <td>0</td>\n",
              "      <td>0</td>\n",
              "      <td>0</td>\n",
              "      <td>0</td>\n",
              "      <td>0</td>\n",
              "      <td>0</td>\n",
              "    </tr>\n",
              "    <tr>\n",
              "      <th>14650</th>\n",
              "      <td>9</td>\n",
              "      <td>0</td>\n",
              "      <td>0</td>\n",
              "      <td>0</td>\n",
              "      <td>0</td>\n",
              "      <td>0</td>\n",
              "      <td>0</td>\n",
              "      <td>0</td>\n",
              "      <td>0</td>\n",
              "      <td>0</td>\n",
              "      <td>...</td>\n",
              "      <td>0</td>\n",
              "      <td>0</td>\n",
              "      <td>0</td>\n",
              "      <td>0</td>\n",
              "      <td>0</td>\n",
              "      <td>0</td>\n",
              "      <td>0</td>\n",
              "      <td>0</td>\n",
              "      <td>0</td>\n",
              "      <td>0</td>\n",
              "    </tr>\n",
              "    <tr>\n",
              "      <th>907</th>\n",
              "      <td>9</td>\n",
              "      <td>0</td>\n",
              "      <td>0</td>\n",
              "      <td>0</td>\n",
              "      <td>0</td>\n",
              "      <td>0</td>\n",
              "      <td>0</td>\n",
              "      <td>0</td>\n",
              "      <td>0</td>\n",
              "      <td>0</td>\n",
              "      <td>...</td>\n",
              "      <td>0</td>\n",
              "      <td>0</td>\n",
              "      <td>0</td>\n",
              "      <td>0</td>\n",
              "      <td>0</td>\n",
              "      <td>0</td>\n",
              "      <td>0</td>\n",
              "      <td>0</td>\n",
              "      <td>0</td>\n",
              "      <td>0</td>\n",
              "    </tr>\n",
              "  </tbody>\n",
              "</table>\n",
              "<p>5 rows × 785 columns</p>\n",
              "</div>\n",
              "      <button class=\"colab-df-convert\" onclick=\"convertToInteractive('df-cee86054-419b-4d96-99ab-371d203a9982')\"\n",
              "              title=\"Convert this dataframe to an interactive table.\"\n",
              "              style=\"display:none;\">\n",
              "\n",
              "  <svg xmlns=\"http://www.w3.org/2000/svg\" height=\"24px\"viewBox=\"0 0 24 24\"\n",
              "       width=\"24px\">\n",
              "    <path d=\"M0 0h24v24H0V0z\" fill=\"none\"/>\n",
              "    <path d=\"M18.56 5.44l.94 2.06.94-2.06 2.06-.94-2.06-.94-.94-2.06-.94 2.06-2.06.94zm-11 1L8.5 8.5l.94-2.06 2.06-.94-2.06-.94L8.5 2.5l-.94 2.06-2.06.94zm10 10l.94 2.06.94-2.06 2.06-.94-2.06-.94-.94-2.06-.94 2.06-2.06.94z\"/><path d=\"M17.41 7.96l-1.37-1.37c-.4-.4-.92-.59-1.43-.59-.52 0-1.04.2-1.43.59L10.3 9.45l-7.72 7.72c-.78.78-.78 2.05 0 2.83L4 21.41c.39.39.9.59 1.41.59.51 0 1.02-.2 1.41-.59l7.78-7.78 2.81-2.81c.8-.78.8-2.07 0-2.86zM5.41 20L4 18.59l7.72-7.72 1.47 1.35L5.41 20z\"/>\n",
              "  </svg>\n",
              "      </button>\n",
              "\n",
              "\n",
              "\n",
              "    <div id=\"df-16f30df2-96fe-4eca-ba7d-bbf3c937d6d5\">\n",
              "      <button class=\"colab-df-quickchart\" onclick=\"quickchart('df-16f30df2-96fe-4eca-ba7d-bbf3c937d6d5')\"\n",
              "              title=\"Suggest charts.\"\n",
              "              style=\"display:none;\">\n",
              "\n",
              "<svg xmlns=\"http://www.w3.org/2000/svg\" height=\"24px\"viewBox=\"0 0 24 24\"\n",
              "     width=\"24px\">\n",
              "    <g>\n",
              "        <path d=\"M19 3H5c-1.1 0-2 .9-2 2v14c0 1.1.9 2 2 2h14c1.1 0 2-.9 2-2V5c0-1.1-.9-2-2-2zM9 17H7v-7h2v7zm4 0h-2V7h2v10zm4 0h-2v-4h2v4z\"/>\n",
              "    </g>\n",
              "</svg>\n",
              "      </button>\n",
              "    </div>\n",
              "\n",
              "<style>\n",
              "  .colab-df-quickchart {\n",
              "    background-color: #E8F0FE;\n",
              "    border: none;\n",
              "    border-radius: 50%;\n",
              "    cursor: pointer;\n",
              "    display: none;\n",
              "    fill: #1967D2;\n",
              "    height: 32px;\n",
              "    padding: 0 0 0 0;\n",
              "    width: 32px;\n",
              "  }\n",
              "\n",
              "  .colab-df-quickchart:hover {\n",
              "    background-color: #E2EBFA;\n",
              "    box-shadow: 0px 1px 2px rgba(60, 64, 67, 0.3), 0px 1px 3px 1px rgba(60, 64, 67, 0.15);\n",
              "    fill: #174EA6;\n",
              "  }\n",
              "\n",
              "  [theme=dark] .colab-df-quickchart {\n",
              "    background-color: #3B4455;\n",
              "    fill: #D2E3FC;\n",
              "  }\n",
              "\n",
              "  [theme=dark] .colab-df-quickchart:hover {\n",
              "    background-color: #434B5C;\n",
              "    box-shadow: 0px 1px 3px 1px rgba(0, 0, 0, 0.15);\n",
              "    filter: drop-shadow(0px 1px 2px rgba(0, 0, 0, 0.3));\n",
              "    fill: #FFFFFF;\n",
              "  }\n",
              "</style>\n",
              "\n",
              "    <script>\n",
              "      async function quickchart(key) {\n",
              "        const containerElement = document.querySelector('#' + key);\n",
              "        const charts = await google.colab.kernel.invokeFunction(\n",
              "            'suggestCharts', [key], {});\n",
              "      }\n",
              "    </script>\n",
              "\n",
              "      <script>\n",
              "\n",
              "function displayQuickchartButton(domScope) {\n",
              "  let quickchartButtonEl =\n",
              "    domScope.querySelector('#df-16f30df2-96fe-4eca-ba7d-bbf3c937d6d5 button.colab-df-quickchart');\n",
              "  quickchartButtonEl.style.display =\n",
              "    google.colab.kernel.accessAllowed ? 'block' : 'none';\n",
              "}\n",
              "\n",
              "        displayQuickchartButton(document);\n",
              "      </script>\n",
              "      <style>\n",
              "    .colab-df-container {\n",
              "      display:flex;\n",
              "      flex-wrap:wrap;\n",
              "      gap: 12px;\n",
              "    }\n",
              "\n",
              "    .colab-df-convert {\n",
              "      background-color: #E8F0FE;\n",
              "      border: none;\n",
              "      border-radius: 50%;\n",
              "      cursor: pointer;\n",
              "      display: none;\n",
              "      fill: #1967D2;\n",
              "      height: 32px;\n",
              "      padding: 0 0 0 0;\n",
              "      width: 32px;\n",
              "    }\n",
              "\n",
              "    .colab-df-convert:hover {\n",
              "      background-color: #E2EBFA;\n",
              "      box-shadow: 0px 1px 2px rgba(60, 64, 67, 0.3), 0px 1px 3px 1px rgba(60, 64, 67, 0.15);\n",
              "      fill: #174EA6;\n",
              "    }\n",
              "\n",
              "    [theme=dark] .colab-df-convert {\n",
              "      background-color: #3B4455;\n",
              "      fill: #D2E3FC;\n",
              "    }\n",
              "\n",
              "    [theme=dark] .colab-df-convert:hover {\n",
              "      background-color: #434B5C;\n",
              "      box-shadow: 0px 1px 3px 1px rgba(0, 0, 0, 0.15);\n",
              "      filter: drop-shadow(0px 1px 2px rgba(0, 0, 0, 0.3));\n",
              "      fill: #FFFFFF;\n",
              "    }\n",
              "  </style>\n",
              "\n",
              "      <script>\n",
              "        const buttonEl =\n",
              "          document.querySelector('#df-cee86054-419b-4d96-99ab-371d203a9982 button.colab-df-convert');\n",
              "        buttonEl.style.display =\n",
              "          google.colab.kernel.accessAllowed ? 'block' : 'none';\n",
              "\n",
              "        async function convertToInteractive(key) {\n",
              "          const element = document.querySelector('#df-cee86054-419b-4d96-99ab-371d203a9982');\n",
              "          const dataTable =\n",
              "            await google.colab.kernel.invokeFunction('convertToInteractive',\n",
              "                                                     [key], {});\n",
              "          if (!dataTable) return;\n",
              "\n",
              "          const docLinkHtml = 'Like what you see? Visit the ' +\n",
              "            '<a target=\"_blank\" href=https://colab.research.google.com/notebooks/data_table.ipynb>data table notebook</a>'\n",
              "            + ' to learn more about interactive tables.';\n",
              "          element.innerHTML = '';\n",
              "          dataTable['output_type'] = 'display_data';\n",
              "          await google.colab.output.renderOutput(dataTable, element);\n",
              "          const docLink = document.createElement('div');\n",
              "          docLink.innerHTML = docLinkHtml;\n",
              "          element.appendChild(docLink);\n",
              "        }\n",
              "      </script>\n",
              "    </div>\n",
              "  </div>\n"
            ]
          },
          "metadata": {},
          "execution_count": 29
        }
      ],
      "source": [
        "df_train.sample(5)"
      ]
    },
    {
      "cell_type": "code",
      "execution_count": null,
      "metadata": {
        "colab": {
          "base_uri": "https://localhost:8080/",
          "height": 280
        },
        "id": "rtLXamQ5PCrU",
        "outputId": "8cb68ac1-ef48-44fc-e7e6-10b30c7409f7"
      },
      "outputs": [
        {
          "output_type": "execute_result",
          "data": {
            "text/plain": [
              "       pixel0  pixel1  pixel2  pixel3  pixel4  pixel5  pixel6  pixel7  pixel8  \\\n",
              "3852        0       0       0       0       0       0       0       0       0   \n",
              "6594        0       0       0       0       0       0       0       0       0   \n",
              "2316        0       0       0       0       0       0       0       0       0   \n",
              "16316       0       0       0       0       0       0       0       0       0   \n",
              "18457       0       0       0       0       0       0       0       0       0   \n",
              "\n",
              "       pixel9  ...  pixel774  pixel775  pixel776  pixel777  pixel778  \\\n",
              "3852        0  ...         0         0         0         0         0   \n",
              "6594        0  ...         0         0         0         0         0   \n",
              "2316        0  ...         0         0         0         0         0   \n",
              "16316       0  ...         0         0         0         0         0   \n",
              "18457       0  ...         0         0         0         0         0   \n",
              "\n",
              "       pixel779  pixel780  pixel781  pixel782  pixel783  \n",
              "3852          0         0         0         0         0  \n",
              "6594          0         0         0         0         0  \n",
              "2316          0         0         0         0         0  \n",
              "16316         0         0         0         0         0  \n",
              "18457         0         0         0         0         0  \n",
              "\n",
              "[5 rows x 784 columns]"
            ],
            "text/html": [
              "\n",
              "\n",
              "  <div id=\"df-0505cfd3-175c-4924-9947-547a62ce8e51\">\n",
              "    <div class=\"colab-df-container\">\n",
              "      <div>\n",
              "<style scoped>\n",
              "    .dataframe tbody tr th:only-of-type {\n",
              "        vertical-align: middle;\n",
              "    }\n",
              "\n",
              "    .dataframe tbody tr th {\n",
              "        vertical-align: top;\n",
              "    }\n",
              "\n",
              "    .dataframe thead th {\n",
              "        text-align: right;\n",
              "    }\n",
              "</style>\n",
              "<table border=\"1\" class=\"dataframe\">\n",
              "  <thead>\n",
              "    <tr style=\"text-align: right;\">\n",
              "      <th></th>\n",
              "      <th>pixel0</th>\n",
              "      <th>pixel1</th>\n",
              "      <th>pixel2</th>\n",
              "      <th>pixel3</th>\n",
              "      <th>pixel4</th>\n",
              "      <th>pixel5</th>\n",
              "      <th>pixel6</th>\n",
              "      <th>pixel7</th>\n",
              "      <th>pixel8</th>\n",
              "      <th>pixel9</th>\n",
              "      <th>...</th>\n",
              "      <th>pixel774</th>\n",
              "      <th>pixel775</th>\n",
              "      <th>pixel776</th>\n",
              "      <th>pixel777</th>\n",
              "      <th>pixel778</th>\n",
              "      <th>pixel779</th>\n",
              "      <th>pixel780</th>\n",
              "      <th>pixel781</th>\n",
              "      <th>pixel782</th>\n",
              "      <th>pixel783</th>\n",
              "    </tr>\n",
              "  </thead>\n",
              "  <tbody>\n",
              "    <tr>\n",
              "      <th>3852</th>\n",
              "      <td>0</td>\n",
              "      <td>0</td>\n",
              "      <td>0</td>\n",
              "      <td>0</td>\n",
              "      <td>0</td>\n",
              "      <td>0</td>\n",
              "      <td>0</td>\n",
              "      <td>0</td>\n",
              "      <td>0</td>\n",
              "      <td>0</td>\n",
              "      <td>...</td>\n",
              "      <td>0</td>\n",
              "      <td>0</td>\n",
              "      <td>0</td>\n",
              "      <td>0</td>\n",
              "      <td>0</td>\n",
              "      <td>0</td>\n",
              "      <td>0</td>\n",
              "      <td>0</td>\n",
              "      <td>0</td>\n",
              "      <td>0</td>\n",
              "    </tr>\n",
              "    <tr>\n",
              "      <th>6594</th>\n",
              "      <td>0</td>\n",
              "      <td>0</td>\n",
              "      <td>0</td>\n",
              "      <td>0</td>\n",
              "      <td>0</td>\n",
              "      <td>0</td>\n",
              "      <td>0</td>\n",
              "      <td>0</td>\n",
              "      <td>0</td>\n",
              "      <td>0</td>\n",
              "      <td>...</td>\n",
              "      <td>0</td>\n",
              "      <td>0</td>\n",
              "      <td>0</td>\n",
              "      <td>0</td>\n",
              "      <td>0</td>\n",
              "      <td>0</td>\n",
              "      <td>0</td>\n",
              "      <td>0</td>\n",
              "      <td>0</td>\n",
              "      <td>0</td>\n",
              "    </tr>\n",
              "    <tr>\n",
              "      <th>2316</th>\n",
              "      <td>0</td>\n",
              "      <td>0</td>\n",
              "      <td>0</td>\n",
              "      <td>0</td>\n",
              "      <td>0</td>\n",
              "      <td>0</td>\n",
              "      <td>0</td>\n",
              "      <td>0</td>\n",
              "      <td>0</td>\n",
              "      <td>0</td>\n",
              "      <td>...</td>\n",
              "      <td>0</td>\n",
              "      <td>0</td>\n",
              "      <td>0</td>\n",
              "      <td>0</td>\n",
              "      <td>0</td>\n",
              "      <td>0</td>\n",
              "      <td>0</td>\n",
              "      <td>0</td>\n",
              "      <td>0</td>\n",
              "      <td>0</td>\n",
              "    </tr>\n",
              "    <tr>\n",
              "      <th>16316</th>\n",
              "      <td>0</td>\n",
              "      <td>0</td>\n",
              "      <td>0</td>\n",
              "      <td>0</td>\n",
              "      <td>0</td>\n",
              "      <td>0</td>\n",
              "      <td>0</td>\n",
              "      <td>0</td>\n",
              "      <td>0</td>\n",
              "      <td>0</td>\n",
              "      <td>...</td>\n",
              "      <td>0</td>\n",
              "      <td>0</td>\n",
              "      <td>0</td>\n",
              "      <td>0</td>\n",
              "      <td>0</td>\n",
              "      <td>0</td>\n",
              "      <td>0</td>\n",
              "      <td>0</td>\n",
              "      <td>0</td>\n",
              "      <td>0</td>\n",
              "    </tr>\n",
              "    <tr>\n",
              "      <th>18457</th>\n",
              "      <td>0</td>\n",
              "      <td>0</td>\n",
              "      <td>0</td>\n",
              "      <td>0</td>\n",
              "      <td>0</td>\n",
              "      <td>0</td>\n",
              "      <td>0</td>\n",
              "      <td>0</td>\n",
              "      <td>0</td>\n",
              "      <td>0</td>\n",
              "      <td>...</td>\n",
              "      <td>0</td>\n",
              "      <td>0</td>\n",
              "      <td>0</td>\n",
              "      <td>0</td>\n",
              "      <td>0</td>\n",
              "      <td>0</td>\n",
              "      <td>0</td>\n",
              "      <td>0</td>\n",
              "      <td>0</td>\n",
              "      <td>0</td>\n",
              "    </tr>\n",
              "  </tbody>\n",
              "</table>\n",
              "<p>5 rows × 784 columns</p>\n",
              "</div>\n",
              "      <button class=\"colab-df-convert\" onclick=\"convertToInteractive('df-0505cfd3-175c-4924-9947-547a62ce8e51')\"\n",
              "              title=\"Convert this dataframe to an interactive table.\"\n",
              "              style=\"display:none;\">\n",
              "\n",
              "  <svg xmlns=\"http://www.w3.org/2000/svg\" height=\"24px\"viewBox=\"0 0 24 24\"\n",
              "       width=\"24px\">\n",
              "    <path d=\"M0 0h24v24H0V0z\" fill=\"none\"/>\n",
              "    <path d=\"M18.56 5.44l.94 2.06.94-2.06 2.06-.94-2.06-.94-.94-2.06-.94 2.06-2.06.94zm-11 1L8.5 8.5l.94-2.06 2.06-.94-2.06-.94L8.5 2.5l-.94 2.06-2.06.94zm10 10l.94 2.06.94-2.06 2.06-.94-2.06-.94-.94-2.06-.94 2.06-2.06.94z\"/><path d=\"M17.41 7.96l-1.37-1.37c-.4-.4-.92-.59-1.43-.59-.52 0-1.04.2-1.43.59L10.3 9.45l-7.72 7.72c-.78.78-.78 2.05 0 2.83L4 21.41c.39.39.9.59 1.41.59.51 0 1.02-.2 1.41-.59l7.78-7.78 2.81-2.81c.8-.78.8-2.07 0-2.86zM5.41 20L4 18.59l7.72-7.72 1.47 1.35L5.41 20z\"/>\n",
              "  </svg>\n",
              "      </button>\n",
              "\n",
              "\n",
              "\n",
              "    <div id=\"df-a0bd9993-953d-436c-a413-c732e06a4d08\">\n",
              "      <button class=\"colab-df-quickchart\" onclick=\"quickchart('df-a0bd9993-953d-436c-a413-c732e06a4d08')\"\n",
              "              title=\"Suggest charts.\"\n",
              "              style=\"display:none;\">\n",
              "\n",
              "<svg xmlns=\"http://www.w3.org/2000/svg\" height=\"24px\"viewBox=\"0 0 24 24\"\n",
              "     width=\"24px\">\n",
              "    <g>\n",
              "        <path d=\"M19 3H5c-1.1 0-2 .9-2 2v14c0 1.1.9 2 2 2h14c1.1 0 2-.9 2-2V5c0-1.1-.9-2-2-2zM9 17H7v-7h2v7zm4 0h-2V7h2v10zm4 0h-2v-4h2v4z\"/>\n",
              "    </g>\n",
              "</svg>\n",
              "      </button>\n",
              "    </div>\n",
              "\n",
              "<style>\n",
              "  .colab-df-quickchart {\n",
              "    background-color: #E8F0FE;\n",
              "    border: none;\n",
              "    border-radius: 50%;\n",
              "    cursor: pointer;\n",
              "    display: none;\n",
              "    fill: #1967D2;\n",
              "    height: 32px;\n",
              "    padding: 0 0 0 0;\n",
              "    width: 32px;\n",
              "  }\n",
              "\n",
              "  .colab-df-quickchart:hover {\n",
              "    background-color: #E2EBFA;\n",
              "    box-shadow: 0px 1px 2px rgba(60, 64, 67, 0.3), 0px 1px 3px 1px rgba(60, 64, 67, 0.15);\n",
              "    fill: #174EA6;\n",
              "  }\n",
              "\n",
              "  [theme=dark] .colab-df-quickchart {\n",
              "    background-color: #3B4455;\n",
              "    fill: #D2E3FC;\n",
              "  }\n",
              "\n",
              "  [theme=dark] .colab-df-quickchart:hover {\n",
              "    background-color: #434B5C;\n",
              "    box-shadow: 0px 1px 3px 1px rgba(0, 0, 0, 0.15);\n",
              "    filter: drop-shadow(0px 1px 2px rgba(0, 0, 0, 0.3));\n",
              "    fill: #FFFFFF;\n",
              "  }\n",
              "</style>\n",
              "\n",
              "    <script>\n",
              "      async function quickchart(key) {\n",
              "        const containerElement = document.querySelector('#' + key);\n",
              "        const charts = await google.colab.kernel.invokeFunction(\n",
              "            'suggestCharts', [key], {});\n",
              "      }\n",
              "    </script>\n",
              "\n",
              "      <script>\n",
              "\n",
              "function displayQuickchartButton(domScope) {\n",
              "  let quickchartButtonEl =\n",
              "    domScope.querySelector('#df-a0bd9993-953d-436c-a413-c732e06a4d08 button.colab-df-quickchart');\n",
              "  quickchartButtonEl.style.display =\n",
              "    google.colab.kernel.accessAllowed ? 'block' : 'none';\n",
              "}\n",
              "\n",
              "        displayQuickchartButton(document);\n",
              "      </script>\n",
              "      <style>\n",
              "    .colab-df-container {\n",
              "      display:flex;\n",
              "      flex-wrap:wrap;\n",
              "      gap: 12px;\n",
              "    }\n",
              "\n",
              "    .colab-df-convert {\n",
              "      background-color: #E8F0FE;\n",
              "      border: none;\n",
              "      border-radius: 50%;\n",
              "      cursor: pointer;\n",
              "      display: none;\n",
              "      fill: #1967D2;\n",
              "      height: 32px;\n",
              "      padding: 0 0 0 0;\n",
              "      width: 32px;\n",
              "    }\n",
              "\n",
              "    .colab-df-convert:hover {\n",
              "      background-color: #E2EBFA;\n",
              "      box-shadow: 0px 1px 2px rgba(60, 64, 67, 0.3), 0px 1px 3px 1px rgba(60, 64, 67, 0.15);\n",
              "      fill: #174EA6;\n",
              "    }\n",
              "\n",
              "    [theme=dark] .colab-df-convert {\n",
              "      background-color: #3B4455;\n",
              "      fill: #D2E3FC;\n",
              "    }\n",
              "\n",
              "    [theme=dark] .colab-df-convert:hover {\n",
              "      background-color: #434B5C;\n",
              "      box-shadow: 0px 1px 3px 1px rgba(0, 0, 0, 0.15);\n",
              "      filter: drop-shadow(0px 1px 2px rgba(0, 0, 0, 0.3));\n",
              "      fill: #FFFFFF;\n",
              "    }\n",
              "  </style>\n",
              "\n",
              "      <script>\n",
              "        const buttonEl =\n",
              "          document.querySelector('#df-0505cfd3-175c-4924-9947-547a62ce8e51 button.colab-df-convert');\n",
              "        buttonEl.style.display =\n",
              "          google.colab.kernel.accessAllowed ? 'block' : 'none';\n",
              "\n",
              "        async function convertToInteractive(key) {\n",
              "          const element = document.querySelector('#df-0505cfd3-175c-4924-9947-547a62ce8e51');\n",
              "          const dataTable =\n",
              "            await google.colab.kernel.invokeFunction('convertToInteractive',\n",
              "                                                     [key], {});\n",
              "          if (!dataTable) return;\n",
              "\n",
              "          const docLinkHtml = 'Like what you see? Visit the ' +\n",
              "            '<a target=\"_blank\" href=https://colab.research.google.com/notebooks/data_table.ipynb>data table notebook</a>'\n",
              "            + ' to learn more about interactive tables.';\n",
              "          element.innerHTML = '';\n",
              "          dataTable['output_type'] = 'display_data';\n",
              "          await google.colab.output.renderOutput(dataTable, element);\n",
              "          const docLink = document.createElement('div');\n",
              "          docLink.innerHTML = docLinkHtml;\n",
              "          element.appendChild(docLink);\n",
              "        }\n",
              "      </script>\n",
              "    </div>\n",
              "  </div>\n"
            ]
          },
          "metadata": {},
          "execution_count": 30
        }
      ],
      "source": [
        "df_test.sample(5)"
      ]
    },
    {
      "cell_type": "code",
      "execution_count": null,
      "metadata": {
        "colab": {
          "base_uri": "https://localhost:8080/",
          "height": 206
        },
        "id": "6lWOBey4M1E0",
        "outputId": "3ab2498b-f83c-4d61-92f0-bd94cab9ff22"
      },
      "outputs": [
        {
          "output_type": "execute_result",
          "data": {
            "text/plain": [
              "       ImageId  Label\n",
              "27963    27964      0\n",
              "16977    16978      0\n",
              "2149      2150      0\n",
              "787        788      0\n",
              "17347    17348      0"
            ],
            "text/html": [
              "\n",
              "\n",
              "  <div id=\"df-f09cf1e8-64dc-4c7a-ba34-d10196506c5c\">\n",
              "    <div class=\"colab-df-container\">\n",
              "      <div>\n",
              "<style scoped>\n",
              "    .dataframe tbody tr th:only-of-type {\n",
              "        vertical-align: middle;\n",
              "    }\n",
              "\n",
              "    .dataframe tbody tr th {\n",
              "        vertical-align: top;\n",
              "    }\n",
              "\n",
              "    .dataframe thead th {\n",
              "        text-align: right;\n",
              "    }\n",
              "</style>\n",
              "<table border=\"1\" class=\"dataframe\">\n",
              "  <thead>\n",
              "    <tr style=\"text-align: right;\">\n",
              "      <th></th>\n",
              "      <th>ImageId</th>\n",
              "      <th>Label</th>\n",
              "    </tr>\n",
              "  </thead>\n",
              "  <tbody>\n",
              "    <tr>\n",
              "      <th>27963</th>\n",
              "      <td>27964</td>\n",
              "      <td>0</td>\n",
              "    </tr>\n",
              "    <tr>\n",
              "      <th>16977</th>\n",
              "      <td>16978</td>\n",
              "      <td>0</td>\n",
              "    </tr>\n",
              "    <tr>\n",
              "      <th>2149</th>\n",
              "      <td>2150</td>\n",
              "      <td>0</td>\n",
              "    </tr>\n",
              "    <tr>\n",
              "      <th>787</th>\n",
              "      <td>788</td>\n",
              "      <td>0</td>\n",
              "    </tr>\n",
              "    <tr>\n",
              "      <th>17347</th>\n",
              "      <td>17348</td>\n",
              "      <td>0</td>\n",
              "    </tr>\n",
              "  </tbody>\n",
              "</table>\n",
              "</div>\n",
              "      <button class=\"colab-df-convert\" onclick=\"convertToInteractive('df-f09cf1e8-64dc-4c7a-ba34-d10196506c5c')\"\n",
              "              title=\"Convert this dataframe to an interactive table.\"\n",
              "              style=\"display:none;\">\n",
              "\n",
              "  <svg xmlns=\"http://www.w3.org/2000/svg\" height=\"24px\"viewBox=\"0 0 24 24\"\n",
              "       width=\"24px\">\n",
              "    <path d=\"M0 0h24v24H0V0z\" fill=\"none\"/>\n",
              "    <path d=\"M18.56 5.44l.94 2.06.94-2.06 2.06-.94-2.06-.94-.94-2.06-.94 2.06-2.06.94zm-11 1L8.5 8.5l.94-2.06 2.06-.94-2.06-.94L8.5 2.5l-.94 2.06-2.06.94zm10 10l.94 2.06.94-2.06 2.06-.94-2.06-.94-.94-2.06-.94 2.06-2.06.94z\"/><path d=\"M17.41 7.96l-1.37-1.37c-.4-.4-.92-.59-1.43-.59-.52 0-1.04.2-1.43.59L10.3 9.45l-7.72 7.72c-.78.78-.78 2.05 0 2.83L4 21.41c.39.39.9.59 1.41.59.51 0 1.02-.2 1.41-.59l7.78-7.78 2.81-2.81c.8-.78.8-2.07 0-2.86zM5.41 20L4 18.59l7.72-7.72 1.47 1.35L5.41 20z\"/>\n",
              "  </svg>\n",
              "      </button>\n",
              "\n",
              "\n",
              "\n",
              "    <div id=\"df-f0c2030a-2bf0-4d10-9524-7b3b9a637fdc\">\n",
              "      <button class=\"colab-df-quickchart\" onclick=\"quickchart('df-f0c2030a-2bf0-4d10-9524-7b3b9a637fdc')\"\n",
              "              title=\"Suggest charts.\"\n",
              "              style=\"display:none;\">\n",
              "\n",
              "<svg xmlns=\"http://www.w3.org/2000/svg\" height=\"24px\"viewBox=\"0 0 24 24\"\n",
              "     width=\"24px\">\n",
              "    <g>\n",
              "        <path d=\"M19 3H5c-1.1 0-2 .9-2 2v14c0 1.1.9 2 2 2h14c1.1 0 2-.9 2-2V5c0-1.1-.9-2-2-2zM9 17H7v-7h2v7zm4 0h-2V7h2v10zm4 0h-2v-4h2v4z\"/>\n",
              "    </g>\n",
              "</svg>\n",
              "      </button>\n",
              "    </div>\n",
              "\n",
              "<style>\n",
              "  .colab-df-quickchart {\n",
              "    background-color: #E8F0FE;\n",
              "    border: none;\n",
              "    border-radius: 50%;\n",
              "    cursor: pointer;\n",
              "    display: none;\n",
              "    fill: #1967D2;\n",
              "    height: 32px;\n",
              "    padding: 0 0 0 0;\n",
              "    width: 32px;\n",
              "  }\n",
              "\n",
              "  .colab-df-quickchart:hover {\n",
              "    background-color: #E2EBFA;\n",
              "    box-shadow: 0px 1px 2px rgba(60, 64, 67, 0.3), 0px 1px 3px 1px rgba(60, 64, 67, 0.15);\n",
              "    fill: #174EA6;\n",
              "  }\n",
              "\n",
              "  [theme=dark] .colab-df-quickchart {\n",
              "    background-color: #3B4455;\n",
              "    fill: #D2E3FC;\n",
              "  }\n",
              "\n",
              "  [theme=dark] .colab-df-quickchart:hover {\n",
              "    background-color: #434B5C;\n",
              "    box-shadow: 0px 1px 3px 1px rgba(0, 0, 0, 0.15);\n",
              "    filter: drop-shadow(0px 1px 2px rgba(0, 0, 0, 0.3));\n",
              "    fill: #FFFFFF;\n",
              "  }\n",
              "</style>\n",
              "\n",
              "    <script>\n",
              "      async function quickchart(key) {\n",
              "        const containerElement = document.querySelector('#' + key);\n",
              "        const charts = await google.colab.kernel.invokeFunction(\n",
              "            'suggestCharts', [key], {});\n",
              "      }\n",
              "    </script>\n",
              "\n",
              "      <script>\n",
              "\n",
              "function displayQuickchartButton(domScope) {\n",
              "  let quickchartButtonEl =\n",
              "    domScope.querySelector('#df-f0c2030a-2bf0-4d10-9524-7b3b9a637fdc button.colab-df-quickchart');\n",
              "  quickchartButtonEl.style.display =\n",
              "    google.colab.kernel.accessAllowed ? 'block' : 'none';\n",
              "}\n",
              "\n",
              "        displayQuickchartButton(document);\n",
              "      </script>\n",
              "      <style>\n",
              "    .colab-df-container {\n",
              "      display:flex;\n",
              "      flex-wrap:wrap;\n",
              "      gap: 12px;\n",
              "    }\n",
              "\n",
              "    .colab-df-convert {\n",
              "      background-color: #E8F0FE;\n",
              "      border: none;\n",
              "      border-radius: 50%;\n",
              "      cursor: pointer;\n",
              "      display: none;\n",
              "      fill: #1967D2;\n",
              "      height: 32px;\n",
              "      padding: 0 0 0 0;\n",
              "      width: 32px;\n",
              "    }\n",
              "\n",
              "    .colab-df-convert:hover {\n",
              "      background-color: #E2EBFA;\n",
              "      box-shadow: 0px 1px 2px rgba(60, 64, 67, 0.3), 0px 1px 3px 1px rgba(60, 64, 67, 0.15);\n",
              "      fill: #174EA6;\n",
              "    }\n",
              "\n",
              "    [theme=dark] .colab-df-convert {\n",
              "      background-color: #3B4455;\n",
              "      fill: #D2E3FC;\n",
              "    }\n",
              "\n",
              "    [theme=dark] .colab-df-convert:hover {\n",
              "      background-color: #434B5C;\n",
              "      box-shadow: 0px 1px 3px 1px rgba(0, 0, 0, 0.15);\n",
              "      filter: drop-shadow(0px 1px 2px rgba(0, 0, 0, 0.3));\n",
              "      fill: #FFFFFF;\n",
              "    }\n",
              "  </style>\n",
              "\n",
              "      <script>\n",
              "        const buttonEl =\n",
              "          document.querySelector('#df-f09cf1e8-64dc-4c7a-ba34-d10196506c5c button.colab-df-convert');\n",
              "        buttonEl.style.display =\n",
              "          google.colab.kernel.accessAllowed ? 'block' : 'none';\n",
              "\n",
              "        async function convertToInteractive(key) {\n",
              "          const element = document.querySelector('#df-f09cf1e8-64dc-4c7a-ba34-d10196506c5c');\n",
              "          const dataTable =\n",
              "            await google.colab.kernel.invokeFunction('convertToInteractive',\n",
              "                                                     [key], {});\n",
              "          if (!dataTable) return;\n",
              "\n",
              "          const docLinkHtml = 'Like what you see? Visit the ' +\n",
              "            '<a target=\"_blank\" href=https://colab.research.google.com/notebooks/data_table.ipynb>data table notebook</a>'\n",
              "            + ' to learn more about interactive tables.';\n",
              "          element.innerHTML = '';\n",
              "          dataTable['output_type'] = 'display_data';\n",
              "          await google.colab.output.renderOutput(dataTable, element);\n",
              "          const docLink = document.createElement('div');\n",
              "          docLink.innerHTML = docLinkHtml;\n",
              "          element.appendChild(docLink);\n",
              "        }\n",
              "      </script>\n",
              "    </div>\n",
              "  </div>\n"
            ]
          },
          "metadata": {},
          "execution_count": 31
        }
      ],
      "source": [
        "submission.sample(5)"
      ]
    },
    {
      "cell_type": "markdown",
      "metadata": {
        "id": "npENaLD0qms6"
      },
      "source": [
        "The shape of datasets:"
      ]
    },
    {
      "cell_type": "code",
      "source": [
        "print(\"df_train shape: \", df_train.shape)\n",
        "print(\"df_test shape: \", df_test.shape)\n",
        "print(\"submission shape: \",submission.shape)"
      ],
      "metadata": {
        "colab": {
          "base_uri": "https://localhost:8080/"
        },
        "id": "kHVcztQ-NImR",
        "outputId": "58e63573-168a-4ab7-b7ef-7a022bad5c77"
      },
      "execution_count": null,
      "outputs": [
        {
          "output_type": "stream",
          "name": "stdout",
          "text": [
            "df_train shape:  (42000, 785)\n",
            "df_test shape:  (28000, 784)\n",
            "submission shape:  (28000, 2)\n"
          ]
        }
      ]
    },
    {
      "cell_type": "markdown",
      "metadata": {
        "id": "ubQNYkdrqv9q"
      },
      "source": [
        "Label Distribution:"
      ]
    },
    {
      "cell_type": "code",
      "execution_count": null,
      "metadata": {
        "colab": {
          "base_uri": "https://localhost:8080/",
          "height": 564
        },
        "id": "9FFlVq_uNOA5",
        "outputId": "c4079d10-84d2-4999-8583-98e6881a9e67"
      },
      "outputs": [
        {
          "output_type": "display_data",
          "data": {
            "text/plain": [
              "<Figure size 1000x600 with 1 Axes>"
            ],
            "image/png": "[encoded data removed]"
          },
          "metadata": {}
        }
      ],
      "source": [
        "label_counts = df_train['label'].value_counts()\n",
        "\n",
        "plt.figure(figsize=(10, 6))\n",
        "sns.barplot(x=label_counts.index, y=label_counts.values, palette='viridis')\n",
        "plt.xlabel('Label')\n",
        "plt.ylabel('Count')\n",
        "plt.title('Label Distribution')\n",
        "plt.show()"
      ]
    },
    {
      "cell_type": "markdown",
      "source": [
        "# Data preparation"
      ],
      "metadata": {
        "id": "J4IHnHGiLR92"
      }
    },
    {
      "cell_type": "code",
      "execution_count": null,
      "metadata": {
        "id": "r9588UsyOz7R"
      },
      "outputs": [],
      "source": [
        "X = df_train.drop(columns = ['label'],axis = 1).values\n",
        "y = df_train['label'].values"
      ]
    },
    {
      "cell_type": "markdown",
      "metadata": {
        "id": "HVFxl37WrWTh"
      },
      "source": [
        "Data normalization:"
      ]
    },
    {
      "cell_type": "code",
      "execution_count": null,
      "metadata": {
        "colab": {
          "base_uri": "https://localhost:8080/"
        },
        "id": "j-MrYJO4xfHR",
        "outputId": "d37d4e0f-82cc-44a0-cd61-9659046291a4"
      },
      "outputs": [
        {
          "output_type": "stream",
          "name": "stdout",
          "text": [
            "X Shape:  (42000, 784)\n",
            "Test Shape:  (28000, 784)\n"
          ]
        }
      ],
      "source": [
        "X = X / 255.0\n",
        "df_test = df_test / 255.0\n",
        "print(\"X Shape: \",X.shape)\n",
        "print(\"Test Shape: \",df_test.shape)"
      ]
    },
    {
      "cell_type": "markdown",
      "source": [
        "Reshaping image in 3 dimensions (height = 28px, width = 28px , canal = 1):"
      ],
      "metadata": {
        "id": "_gGCBfonMMIw"
      }
    },
    {
      "cell_type": "code",
      "execution_count": null,
      "metadata": {
        "colab": {
          "base_uri": "https://localhost:8080/"
        },
        "id": "ZDBGZY3mxpog",
        "outputId": "acba421e-7740-4b58-cdf5-43a5058fe11f"
      },
      "outputs": [
        {
          "output_type": "stream",
          "name": "stdout",
          "text": [
            "X shape:  (42000, 28, 28, 1)\n",
            "test shape:  (28000, 28, 28, 1)\n"
          ]
        }
      ],
      "source": [
        "X = X.reshape(-1,28,28,1)\n",
        "df_test = df_test.values.reshape(-1,28,28,1)\n",
        "print(\"X shape: \",X.shape)\n",
        "print(\"test shape: \",df_test.shape)"
      ]
    },
    {
      "cell_type": "markdown",
      "source": [
        "Sample images:"
      ],
      "metadata": {
        "id": "n85s2UGBMhED"
      }
    },
    {
      "cell_type": "code",
      "execution_count": null,
      "metadata": {
        "colab": {
          "base_uri": "https://localhost:8080/",
          "height": 157
        },
        "id": "44bkowM5yYyt",
        "outputId": "2ea94849-1e59-45aa-e158-ae7dc9fbfce3"
      },
      "outputs": [
        {
          "output_type": "display_data",
          "data": {
            "text/plain": [
              "<Figure size 1500x300 with 10 Axes>"
            ],
            "image/png": "[encoded data removed]"
          },
          "metadata": {}
        }
      ],
      "source": [
        "image_num = 10\n",
        "\n",
        "plt.figure(figsize=(15, 3))\n",
        "\n",
        "for i in range(image_num):\n",
        "    plt.subplot(1, image_num, i + 1)\n",
        "    plt.imshow(X[i].reshape(28, 28), cmap='gray')\n",
        "    plt.title('Label: {}'.format(df_train['label'].values[i]))\n",
        "    plt.axis('off')\n",
        "\n",
        "plt.show()"
      ]
    },
    {
      "cell_type": "markdown",
      "source": [
        "Encoding labels to one hot vectors:"
      ],
      "metadata": {
        "id": "hpngNAWnM0qM"
      }
    },
    {
      "cell_type": "code",
      "execution_count": null,
      "metadata": {
        "id": "T8s_fZBrzCld"
      },
      "outputs": [],
      "source": [
        "y = to_categorical(y, num_classes = 10)"
      ]
    },
    {
      "cell_type": "markdown",
      "source": [
        "Spliting the train data:"
      ],
      "metadata": {
        "id": "Kuw5HYGuNdst"
      }
    },
    {
      "cell_type": "code",
      "execution_count": null,
      "metadata": {
        "id": "mXK2eZmwxhAj"
      },
      "outputs": [],
      "source": [
        "X_train, X_test, y_train, y_test = train_test_split(X,y, random_state = 42, test_size = 0.25)"
      ]
    },
    {
      "cell_type": "code",
      "execution_count": null,
      "metadata": {
        "colab": {
          "base_uri": "https://localhost:8080/"
        },
        "id": "GOVE4jQky8Ww",
        "outputId": "be9ef39f-e5ea-4c90-fe1a-27a7f1010b11"
      },
      "outputs": [
        {
          "output_type": "stream",
          "name": "stdout",
          "text": [
            "x_train shape (31500, 28, 28, 1)\n",
            "x_test shape (10500, 28, 28, 1)\n",
            "y_train shape (31500, 10)\n",
            "y_test shape (10500, 10)\n"
          ]
        }
      ],
      "source": [
        "print(\"x_train shape\",X_train.shape)\n",
        "print(\"x_test shape\",X_test.shape)\n",
        "print(\"y_train shape\",y_train.shape)\n",
        "print(\"y_test shape\",y_test.shape)"
      ]
    },
    {
      "cell_type": "markdown",
      "metadata": {
        "id": "pUkJ_aVdUU6c"
      },
      "source": [
        "# Modeling"
      ]
    },
    {
      "cell_type": "markdown",
      "metadata": {
        "id": "qVclY9MEpxUU"
      },
      "source": [
        "**I used the Keras Sequential which structure looks as follows:**\n",
        "\n",
        "1 Input Layers:\n",
        "\n",
        "* Conv2D layer with 5x5 kernel filters and ReLU activation function.\n",
        "* MaxPooling2D layer with a pooling size of 2x2.\n",
        "\n",
        "2 Hidden Layers:\n",
        "\n",
        "* Conv2D layer with 3x3 kernel filters and ReLU activation function.\n",
        "* MaxPooling2D layer with a pooling size of 2x2.\n",
        "* Dropout layer, which randomly deactivates neurons with a specified dropout rate (dropout_rate hyperparameter).\n",
        "\n",
        "3 Data Transformation:\n",
        "\n",
        "* Flatten layer, which converts data from 2D arrays to 1D arrays.\n",
        "\n",
        "4 Fully Connected Layers:\n",
        "\n",
        "* Dense layer with a specified number of neurons (dense_units hyperparameter) and ReLU activation function.\n",
        "* Dropout layer, which randomly deactivates neurons with a specified dropout rate (dense_dropout_rate hyperparameter).\n",
        "\n",
        "5 Output Layer:\n",
        "\n",
        "* Dense layer with 10 neurons (corresponding to the number of classes) and Softmax activation function, used for classification.\n",
        "\n",
        "\n",
        "The hyperparameters (conv1_filters, conv2_filters, dropout_rate, dense_units, dense_dropout_rate) determine the number of filters and neurons in the convolutional and fully connected layers, as well as the probability coefficient for the Dropout layers, which help prevent overfitting of the model\n",
        "\n",
        "\n",
        "\n",
        "\n",
        "\n",
        "\n",
        "\n"
      ]
    },
    {
      "cell_type": "markdown",
      "source": [
        "Setting the CNN model:"
      ],
      "metadata": {
        "id": "4k0MUSzSS1lI"
      }
    },
    {
      "cell_type": "code",
      "execution_count": null,
      "metadata": {
        "id": "z1xGzpLKa0wy"
      },
      "outputs": [],
      "source": [
        "def build_model(hp):\n",
        "    model = Sequential()\n",
        "\n",
        "    model.add(Conv2D(hp.Int('conv1_filters', min_value=16, max_value=128, step=16), (5, 5), input_shape=(X_train.shape[1], X_train.shape[2], 1), activation='relu'))\n",
        "    model.add(MaxPooling2D(pool_size=(2, 2)))\n",
        "\n",
        "    model.add(Conv2D(hp.Int('conv2_filters', min_value=16, max_value=128, step=16), (3, 3), activation='relu'))\n",
        "    model.add(MaxPooling2D(pool_size=(2, 2)))\n",
        "\n",
        "    model.add(Dropout(hp.Float('dropout_rate', min_value=0.2, max_value=0.5, step=0.1)))\n",
        "\n",
        "    model.add(Flatten())\n",
        "\n",
        "    model.add(Dense(hp.Int('dense_units', min_value=64, max_value=256, step=64), activation='relu'))\n",
        "    model.add(Dropout(hp.Float('dense_dropout_rate', min_value=0.2, max_value=0.5, step=0.1)))\n",
        "\n",
        "    model.add(Dense(10, activation='softmax'))\n",
        "\n",
        "    model.compile(loss='categorical_crossentropy', optimizer=Adam(), metrics=['accuracy'])\n",
        "\n",
        "    return model"
      ]
    },
    {
      "cell_type": "code",
      "execution_count": null,
      "metadata": {
        "id": "rzBJVe_FbGC6"
      },
      "outputs": [],
      "source": [
        "tuner = RandomSearch(\n",
        "    build_model,\n",
        "    objective='val_accuracy',\n",
        "    max_trials=5,  # The number of trial combinations of hyperparameters\n",
        "    executions_per_trial=3,  # The number of runs for each trial combination\n",
        ")"
      ]
    },
    {
      "cell_type": "code",
      "execution_count": null,
      "metadata": {
        "colab": {
          "base_uri": "https://localhost:8080/"
        },
        "id": "wL_HZo7obO5S",
        "outputId": "f1f10dd1-80e2-444f-94eb-af89ca663dff"
      },
      "outputs": [
        {
          "output_type": "stream",
          "name": "stdout",
          "text": [
            "Trial 5 Complete [00h 39m 44s]\n",
            "val_accuracy: 0.9917142788569132\n",
            "\n",
            "Best val_accuracy So Far: 0.9917142788569132\n",
            "Total elapsed time: 02h 39m 58s\n"
          ]
        }
      ],
      "source": [
        "tuner.search(X_train, y_train, validation_data=(X_test, y_test), epochs=10, batch_size=200)"
      ]
    },
    {
      "cell_type": "markdown",
      "metadata": {
        "id": "3DqgtIqUp9bR"
      },
      "source": [
        "The best model hyperparameters:"
      ]
    },
    {
      "cell_type": "code",
      "execution_count": null,
      "metadata": {
        "colab": {
          "base_uri": "https://localhost:8080/"
        },
        "id": "Ha4iM8hE-j1I",
        "outputId": "93c1f901-8e87-4409-e788-639375fa1bb0"
      },
      "outputs": [
        {
          "output_type": "stream",
          "name": "stdout",
          "text": [
            "{'conv1_filters': 64, 'conv2_filters': 128, 'dropout_rate': 0.2, 'dense_units': 256, 'dense_dropout_rate': 0.4}\n"
          ]
        }
      ],
      "source": [
        "best_hyperparameters = tuner.get_best_hyperparameters(num_trials=1)[0]\n",
        "\n",
        "print(best_hyperparameters.values)"
      ]
    },
    {
      "cell_type": "markdown",
      "metadata": {
        "id": "7cFhVrQXqCEI"
      },
      "source": [
        "Training the best model with a larger number of epochs:"
      ]
    },
    {
      "cell_type": "code",
      "execution_count": null,
      "metadata": {
        "colab": {
          "base_uri": "https://localhost:8080/"
        },
        "id": "iVJy7q9mbXto",
        "outputId": "2ddc4e48-f1c2-4f87-b24c-91493b0b756f"
      },
      "outputs": [
        {
          "output_type": "stream",
          "name": "stdout",
          "text": [
            "Epoch 1/50\n",
            "158/158 [==============================] - 117s 740ms/step - loss: 0.3188 - accuracy: 0.9019 - val_loss: 0.0760 - val_accuracy: 0.9757\n",
            "Epoch 2/50\n",
            "158/158 [==============================] - 81s 512ms/step - loss: 0.0802 - accuracy: 0.9758 - val_loss: 0.0485 - val_accuracy: 0.9852\n",
            "Epoch 3/50\n",
            "158/158 [==============================] - 81s 516ms/step - loss: 0.0583 - accuracy: 0.9817 - val_loss: 0.0391 - val_accuracy: 0.9873\n",
            "Epoch 4/50\n",
            "158/158 [==============================] - 78s 492ms/step - loss: 0.0433 - accuracy: 0.9869 - val_loss: 0.0372 - val_accuracy: 0.9886\n",
            "Epoch 5/50\n",
            "158/158 [==============================] - 79s 498ms/step - loss: 0.0367 - accuracy: 0.9886 - val_loss: 0.0417 - val_accuracy: 0.9873\n",
            "Epoch 6/50\n",
            "158/158 [==============================] - 84s 532ms/step - loss: 0.0316 - accuracy: 0.9899 - val_loss: 0.0310 - val_accuracy: 0.9903\n",
            "Epoch 7/50\n",
            "158/158 [==============================] - 78s 494ms/step - loss: 0.0275 - accuracy: 0.9910 - val_loss: 0.0291 - val_accuracy: 0.9913\n",
            "Epoch 8/50\n",
            "158/158 [==============================] - 78s 497ms/step - loss: 0.0235 - accuracy: 0.9918 - val_loss: 0.0286 - val_accuracy: 0.9910\n",
            "Epoch 9/50\n",
            "158/158 [==============================] - 82s 518ms/step - loss: 0.0206 - accuracy: 0.9928 - val_loss: 0.0292 - val_accuracy: 0.9913\n",
            "Epoch 10/50\n",
            "158/158 [==============================] - 73s 465ms/step - loss: 0.0177 - accuracy: 0.9943 - val_loss: 0.0330 - val_accuracy: 0.9908\n",
            "Epoch 11/50\n",
            "158/158 [==============================] - 75s 476ms/step - loss: 0.0197 - accuracy: 0.9936 - val_loss: 0.0270 - val_accuracy: 0.9916\n",
            "Epoch 12/50\n",
            "158/158 [==============================] - 74s 470ms/step - loss: 0.0150 - accuracy: 0.9951 - val_loss: 0.0268 - val_accuracy: 0.9926\n",
            "Epoch 13/50\n",
            "158/158 [==============================] - 74s 469ms/step - loss: 0.0136 - accuracy: 0.9950 - val_loss: 0.0249 - val_accuracy: 0.9926\n",
            "Epoch 14/50\n",
            "158/158 [==============================] - 74s 470ms/step - loss: 0.0113 - accuracy: 0.9960 - val_loss: 0.0291 - val_accuracy: 0.9920\n",
            "Epoch 15/50\n",
            "158/158 [==============================] - 73s 464ms/step - loss: 0.0120 - accuracy: 0.9959 - val_loss: 0.0291 - val_accuracy: 0.9923\n",
            "Epoch 16/50\n",
            "158/158 [==============================] - 76s 481ms/step - loss: 0.0093 - accuracy: 0.9968 - val_loss: 0.0316 - val_accuracy: 0.9922\n",
            "Epoch 17/50\n",
            "158/158 [==============================] - 76s 481ms/step - loss: 0.0106 - accuracy: 0.9963 - val_loss: 0.0294 - val_accuracy: 0.9928\n",
            "Epoch 18/50\n",
            "158/158 [==============================] - 81s 514ms/step - loss: 0.0094 - accuracy: 0.9967 - val_loss: 0.0249 - val_accuracy: 0.9932\n",
            "Epoch 19/50\n",
            "158/158 [==============================] - 76s 483ms/step - loss: 0.0077 - accuracy: 0.9973 - val_loss: 0.0297 - val_accuracy: 0.9930\n",
            "Epoch 20/50\n",
            "158/158 [==============================] - 76s 479ms/step - loss: 0.0081 - accuracy: 0.9971 - val_loss: 0.0289 - val_accuracy: 0.9924\n",
            "Epoch 21/50\n",
            "158/158 [==============================] - 76s 480ms/step - loss: 0.0091 - accuracy: 0.9968 - val_loss: 0.0382 - val_accuracy: 0.9910\n",
            "Epoch 22/50\n",
            "158/158 [==============================] - 76s 482ms/step - loss: 0.0075 - accuracy: 0.9977 - val_loss: 0.0334 - val_accuracy: 0.9914\n",
            "Epoch 23/50\n",
            "158/158 [==============================] - 76s 480ms/step - loss: 0.0081 - accuracy: 0.9975 - val_loss: 0.0409 - val_accuracy: 0.9904\n",
            "Epoch 24/50\n",
            "158/158 [==============================] - 76s 482ms/step - loss: 0.0083 - accuracy: 0.9972 - val_loss: 0.0351 - val_accuracy: 0.9912\n",
            "Epoch 25/50\n",
            "158/158 [==============================] - 76s 479ms/step - loss: 0.0082 - accuracy: 0.9974 - val_loss: 0.0314 - val_accuracy: 0.9925\n",
            "Epoch 26/50\n",
            "158/158 [==============================] - 77s 485ms/step - loss: 0.0069 - accuracy: 0.9976 - val_loss: 0.0294 - val_accuracy: 0.9928\n",
            "Epoch 27/50\n",
            "158/158 [==============================] - 76s 479ms/step - loss: 0.0069 - accuracy: 0.9978 - val_loss: 0.0269 - val_accuracy: 0.9933\n",
            "Epoch 28/50\n",
            "158/158 [==============================] - 81s 515ms/step - loss: 0.0058 - accuracy: 0.9979 - val_loss: 0.0335 - val_accuracy: 0.9928\n",
            "Epoch 29/50\n",
            "158/158 [==============================] - 77s 487ms/step - loss: 0.0053 - accuracy: 0.9979 - val_loss: 0.0272 - val_accuracy: 0.9944\n",
            "Epoch 30/50\n",
            "158/158 [==============================] - 75s 475ms/step - loss: 0.0067 - accuracy: 0.9977 - val_loss: 0.0363 - val_accuracy: 0.9914\n",
            "Epoch 31/50\n",
            "158/158 [==============================] - 81s 513ms/step - loss: 0.0054 - accuracy: 0.9981 - val_loss: 0.0291 - val_accuracy: 0.9928\n",
            "Epoch 32/50\n",
            "158/158 [==============================] - 75s 477ms/step - loss: 0.0053 - accuracy: 0.9982 - val_loss: 0.0365 - val_accuracy: 0.9920\n",
            "Epoch 33/50\n",
            "158/158 [==============================] - 77s 487ms/step - loss: 0.0058 - accuracy: 0.9980 - val_loss: 0.0367 - val_accuracy: 0.9926\n",
            "Epoch 34/50\n",
            "158/158 [==============================] - 75s 475ms/step - loss: 0.0058 - accuracy: 0.9979 - val_loss: 0.0358 - val_accuracy: 0.9926\n",
            "Epoch 35/50\n",
            "158/158 [==============================] - 80s 510ms/step - loss: 0.0057 - accuracy: 0.9979 - val_loss: 0.0304 - val_accuracy: 0.9933\n",
            "Epoch 36/50\n",
            "158/158 [==============================] - 81s 511ms/step - loss: 0.0049 - accuracy: 0.9982 - val_loss: 0.0348 - val_accuracy: 0.9928\n",
            "Epoch 37/50\n",
            "158/158 [==============================] - 75s 474ms/step - loss: 0.0055 - accuracy: 0.9982 - val_loss: 0.0298 - val_accuracy: 0.9942\n",
            "Epoch 38/50\n",
            "158/158 [==============================] - 76s 485ms/step - loss: 0.0056 - accuracy: 0.9985 - val_loss: 0.0321 - val_accuracy: 0.9932\n",
            "Epoch 39/50\n",
            "158/158 [==============================] - 76s 479ms/step - loss: 0.0063 - accuracy: 0.9977 - val_loss: 0.0324 - val_accuracy: 0.9930\n",
            "Epoch 40/50\n",
            "158/158 [==============================] - 77s 488ms/step - loss: 0.0045 - accuracy: 0.9986 - val_loss: 0.0294 - val_accuracy: 0.9935\n",
            "Epoch 41/50\n",
            "158/158 [==============================] - 75s 477ms/step - loss: 0.0041 - accuracy: 0.9986 - val_loss: 0.0318 - val_accuracy: 0.9939\n",
            "Epoch 42/50\n",
            "158/158 [==============================] - 81s 512ms/step - loss: 0.0040 - accuracy: 0.9987 - val_loss: 0.0335 - val_accuracy: 0.9938\n",
            "Epoch 43/50\n",
            "158/158 [==============================] - 76s 479ms/step - loss: 0.0036 - accuracy: 0.9988 - val_loss: 0.0376 - val_accuracy: 0.9933\n",
            "Epoch 44/50\n",
            "158/158 [==============================] - 82s 516ms/step - loss: 0.0018 - accuracy: 0.9994 - val_loss: 0.0325 - val_accuracy: 0.9938\n",
            "Epoch 45/50\n",
            "158/158 [==============================] - 77s 491ms/step - loss: 0.0029 - accuracy: 0.9990 - val_loss: 0.0343 - val_accuracy: 0.9929\n",
            "Epoch 46/50\n",
            "158/158 [==============================] - 75s 476ms/step - loss: 0.0065 - accuracy: 0.9981 - val_loss: 0.0295 - val_accuracy: 0.9939\n",
            "Epoch 47/50\n",
            "158/158 [==============================] - 81s 513ms/step - loss: 0.0049 - accuracy: 0.9987 - val_loss: 0.0348 - val_accuracy: 0.9933\n",
            "Epoch 48/50\n",
            "158/158 [==============================] - 76s 479ms/step - loss: 0.0050 - accuracy: 0.9983 - val_loss: 0.0401 - val_accuracy: 0.9928\n",
            "Epoch 49/50\n",
            "158/158 [==============================] - 76s 481ms/step - loss: 0.0041 - accuracy: 0.9985 - val_loss: 0.0376 - val_accuracy: 0.9926\n",
            "Epoch 50/50\n",
            "158/158 [==============================] - 75s 477ms/step - loss: 0.0037 - accuracy: 0.9988 - val_loss: 0.0385 - val_accuracy: 0.9932\n"
          ]
        },
        {
          "output_type": "execute_result",
          "data": {
            "text/plain": [
              "<keras.callbacks.History at 0x7ba6740e3f10>"
            ]
          },
          "metadata": {},
          "execution_count": 45
        }
      ],
      "source": [
        "best_model = tuner.hypermodel.build(best_hyperparameters)\n",
        "best_model.fit(X_train, y_train, validation_data=(X_test, y_test), epochs=50, batch_size=200)"
      ]
    },
    {
      "cell_type": "markdown",
      "source": [
        "Best model summary:"
      ],
      "metadata": {
        "id": "cD_WanDJHff1"
      }
    },
    {
      "cell_type": "code",
      "source": [
        "best_model.summary()"
      ],
      "metadata": {
        "colab": {
          "base_uri": "https://localhost:8080/"
        },
        "id": "mDJxOJ_9A7uK",
        "outputId": "f1c2f9d8-d0af-4ca9-ae47-3da99ebe6211"
      },
      "execution_count": null,
      "outputs": [
        {
          "output_type": "stream",
          "name": "stdout",
          "text": [
            "Model: \"sequential_1\"\n",
            "_________________________________________________________________\n",
            " Layer (type)                Output Shape              Param #   \n",
            "=================================================================\n",
            " conv2d_2 (Conv2D)           (None, 24, 24, 64)        1664      \n",
            "                                                                 \n",
            " max_pooling2d_2 (MaxPooling  (None, 12, 12, 64)       0         \n",
            " 2D)                                                             \n",
            "                                                                 \n",
            " conv2d_3 (Conv2D)           (None, 10, 10, 128)       73856     \n",
            "                                                                 \n",
            " max_pooling2d_3 (MaxPooling  (None, 5, 5, 128)        0         \n",
            " 2D)                                                             \n",
            "                                                                 \n",
            " dropout_2 (Dropout)         (None, 5, 5, 128)         0         \n",
            "                                                                 \n",
            " flatten_1 (Flatten)         (None, 3200)              0         \n",
            "                                                                 \n",
            " dense_2 (Dense)             (None, 256)               819456    \n",
            "                                                                 \n",
            " dropout_3 (Dropout)         (None, 256)               0         \n",
            "                                                                 \n",
            " dense_3 (Dense)             (None, 10)                2570      \n",
            "                                                                 \n",
            "=================================================================\n",
            "Total params: 897,546\n",
            "Trainable params: 897,546\n",
            "Non-trainable params: 0\n",
            "_________________________________________________________________\n"
          ]
        }
      ]
    },
    {
      "cell_type": "code",
      "execution_count": null,
      "metadata": {
        "colab": {
          "base_uri": "https://localhost:8080/"
        },
        "id": "Ev9WxtAKoZu0",
        "outputId": "f0e2ce8d-2bb1-4d86-efac-d270ea58d9b3"
      },
      "outputs": [
        {
          "output_type": "stream",
          "name": "stdout",
          "text": [
            "329/329 [==============================] - 8s 24ms/step - loss: 0.0385 - accuracy: 0.9932\n"
          ]
        }
      ],
      "source": [
        "best_test_loss, best_test_accuracy = best_model.evaluate(X_test, y_test)"
      ]
    },
    {
      "cell_type": "markdown",
      "source": [
        "The best model accuracy:"
      ],
      "metadata": {
        "id": "0EqO5VkMI5xq"
      }
    },
    {
      "cell_type": "code",
      "execution_count": null,
      "metadata": {
        "colab": {
          "base_uri": "https://localhost:8080/"
        },
        "id": "JyPSdVd2ohlc",
        "outputId": "a445a752-6cce-4827-ebd3-a0ddb66fdc8d"
      },
      "outputs": [
        {
          "output_type": "stream",
          "name": "stdout",
          "text": [
            "Test Accuracy: 99.32%\n",
            "Test Loss: 3.85%\n"
          ]
        }
      ],
      "source": [
        "print(\"Test Accuracy: {:.2f}%\".format(best_test_accuracy * 100))\n",
        "print(\"Test Loss: {:.2f}%\".format(best_test_loss * 100))"
      ]
    },
    {
      "cell_type": "markdown",
      "metadata": {
        "id": "hz3Z2I6TqWMt"
      },
      "source": [
        "**The accuracy increased by 0.15%**"
      ]
    },
    {
      "cell_type": "markdown",
      "source": [
        "Saving the model:"
      ],
      "metadata": {
        "id": "dAQSuIWEMa7S"
      }
    },
    {
      "cell_type": "code",
      "source": [
        "best_model.save('digits_recognizer.h5')"
      ],
      "metadata": {
        "id": "IBzExhCCLqsS"
      },
      "execution_count": null,
      "outputs": []
    },
    {
      "cell_type": "markdown",
      "source": [
        "Model architecture:"
      ],
      "metadata": {
        "id": "q_wzqSJ-NbKW"
      }
    },
    {
      "cell_type": "code",
      "source": [
        "plt.figure(figsize=(15, 10))\n",
        "\n",
        "plot_model(best_model,to_file=\"model_structure.png\", show_layer_names=False,show_layer_activations=True)\n",
        "\n",
        "plt.imshow(plt.imread(\"model_structure.png\"))\n",
        "plt.axis('off')\n",
        "plt.show()"
      ],
      "metadata": {
        "colab": {
          "base_uri": "https://localhost:8080/",
          "height": 807
        },
        "id": "yqk6D9FnFWzC",
        "outputId": "bb38beee-67ca-4319-a4cc-7e52a2a7cd30"
      },
      "execution_count": null,
      "outputs": [
        {
          "output_type": "display_data",
          "data": {
            "text/plain": [
              "<Figure size 1500x1000 with 1 Axes>"
            ],
            "image/png": "[encoded data removed]"
          },
          "metadata": {}
        }
      ]
    },
    {
      "cell_type": "markdown",
      "source": [
        " Confusion matrix of the validation results:"
      ],
      "metadata": {
        "id": "pJL_hdtSNsmM"
      }
    },
    {
      "cell_type": "code",
      "source": [
        "predictions = best_model.predict(X_test)\n",
        "\n",
        "predicted_labels = np.argmax(predictions, axis=1)\n",
        "\n",
        "# Converting one-hot-encoded true labels to class indices\n",
        "true_labels = np.argmax(y_test, axis=1)"
      ],
      "metadata": {
        "colab": {
          "base_uri": "https://localhost:8080/"
        },
        "id": "saE6kixwK7FO",
        "outputId": "206e1b77-793b-4456-8e3b-6194ed023766"
      },
      "execution_count": null,
      "outputs": [
        {
          "output_type": "stream",
          "name": "stdout",
          "text": [
            "329/329 [==============================] - 11s 31ms/step\n"
          ]
        }
      ]
    },
    {
      "cell_type": "code",
      "source": [
        "cm = confusion_matrix(true_labels, predicted_labels)\n",
        "\n",
        "plt.figure(figsize=(8, 6))\n",
        "sns.heatmap(cm, annot=True, fmt='d', cmap='Blues')\n",
        "plt.xlabel('Predicted Labels')\n",
        "plt.ylabel('True Labels')\n",
        "plt.title('Confusion Matrix')\n",
        "plt.show()"
      ],
      "metadata": {
        "colab": {
          "base_uri": "https://localhost:8080/",
          "height": 564
        },
        "id": "sCRlHrFhLgHh",
        "outputId": "47204d5c-4f63-4cd4-89df-2ca474adfd6c"
      },
      "execution_count": null,
      "outputs": [
        {
          "output_type": "display_data",
          "data": {
            "text/plain": [
              "<Figure size 800x600 with 2 Axes>"
            ],
            "image/png": "[encoded data removed]"
          },
          "metadata": {}
        }
      ]
    },
    {
      "cell_type": "markdown",
      "source": [
        "Displaying some error results:"
      ],
      "metadata": {
        "id": "nl6S_bkPNvrW"
      }
    },
    {
      "cell_type": "code",
      "source": [
        "incorrect_indices = [i for i in range(len(true_labels)) if true_labels[i] != predicted_labels[i]]\n",
        "\n",
        "num_images_to_show = 10\n",
        "\n",
        "plt.figure(figsize=(25, 10))\n",
        "\n",
        "for i in range(num_images_to_show):\n",
        "    index = incorrect_indices[i]\n",
        "    plt.subplot(1, num_images_to_show, i + 1)\n",
        "    plt.imshow(X_test[index].reshape(28, 28), cmap='gray')\n",
        "    plt.title(f\"Predicted: {predicted_labels[index]}, True: {true_labels[index]}\")\n",
        "    plt.axis('off')\n",
        "\n",
        "plt.show()"
      ],
      "metadata": {
        "colab": {
          "base_uri": "https://localhost:8080/",
          "height": 181
        },
        "id": "1-3zjIZkKqo7",
        "outputId": "a7ee2bac-6807-482e-cf84-f8d312a0548d"
      },
      "execution_count": null,
      "outputs": [
        {
          "output_type": "display_data",
          "data": {
            "text/plain": [
              "<Figure size 2500x1000 with 10 Axes>"
            ],
            "image/png": "[encoded data removed]"
          },
          "metadata": {}
        }
      ]
    },
    {
      "cell_type": "markdown",
      "source": [
        "**For these 10 images, the model is performing reasonably well, except for the first two. Some errors made by the model are understandable, as even humans might find them challenging. For example, the confusion between the 9 and 4 is understandable due to their similarity, and the 4th image may appear misleading and could be mistaken for a 1**"
      ],
      "metadata": {
        "id": "23wJxfQh-gyN"
      }
    },
    {
      "cell_type": "markdown",
      "metadata": {
        "id": "3elAbtuq0U52"
      },
      "source": [
        "# Test predictions"
      ]
    },
    {
      "cell_type": "code",
      "execution_count": null,
      "metadata": {
        "colab": {
          "base_uri": "https://localhost:8080/"
        },
        "id": "5Jc9VWP7zeOu",
        "outputId": "6b1455da-c0e9-4ada-8e64-dbca530bdf25"
      },
      "outputs": [
        {
          "output_type": "stream",
          "name": "stdout",
          "text": [
            "875/875 [==============================] - 20s 23ms/step\n"
          ]
        }
      ],
      "source": [
        "predict = best_model.predict(df_test, verbose=1)\n",
        "predict = np.argmax(predict, axis=1)"
      ]
    },
    {
      "cell_type": "markdown",
      "source": [
        "Predicted sample images:"
      ],
      "metadata": {
        "id": "bD_EphaZdJda"
      }
    },
    {
      "cell_type": "code",
      "source": [
        "num_images_to_show = 10\n",
        "\n",
        "plt.figure(figsize=(15, 5))\n",
        "\n",
        "for i in range(num_images_to_show):\n",
        "    index = i  # Image index for output (you can change it to another number)\n",
        "    plt.subplot(1, num_images_to_show, i + 1)\n",
        "    plt.imshow(df_test[index].reshape(28, 28), cmap='gray')\n",
        "    plt.title(f\"Predicted: {predict[index]}\")\n",
        "    plt.axis('off')\n",
        "\n",
        "plt.show()"
      ],
      "metadata": {
        "colab": {
          "base_uri": "https://localhost:8080/",
          "height": 157
        },
        "id": "1C0mM07vOi7S",
        "outputId": "e901543b-b9a3-47a7-8602-91bf1ed91c77"
      },
      "execution_count": null,
      "outputs": [
        {
          "output_type": "display_data",
          "data": {
            "text/plain": [
              "<Figure size 1500x500 with 10 Axes>"
            ],
            "image/png": "[encoded data removed]"
          },
          "metadata": {}
        }
      ]
    },
    {
      "cell_type": "markdown",
      "source": [
        "**As we can observe, the model correctly predicted the digits in the training dataset, except for the 4th image**"
      ],
      "metadata": {
        "id": "hsWtqr6c_pK-"
      }
    },
    {
      "cell_type": "code",
      "execution_count": null,
      "metadata": {
        "colab": {
          "base_uri": "https://localhost:8080/",
          "height": 206
        },
        "id": "__lU_Rhaziot",
        "outputId": "de0fa1d3-dabd-410c-826f-0e503c829f98"
      },
      "outputs": [
        {
          "output_type": "execute_result",
          "data": {
            "text/plain": [
              "       ImageId  Label\n",
              "11703    11704      7\n",
              "11152    11153      2\n",
              "8663      8664      8\n",
              "16449    16450      5\n",
              "5729      5730      1"
            ],
            "text/html": [
              "\n",
              "\n",
              "  <div id=\"df-5f72cc87-a253-441b-bc0e-2e7b133ab8ae\">\n",
              "    <div class=\"colab-df-container\">\n",
              "      <div>\n",
              "<style scoped>\n",
              "    .dataframe tbody tr th:only-of-type {\n",
              "        vertical-align: middle;\n",
              "    }\n",
              "\n",
              "    .dataframe tbody tr th {\n",
              "        vertical-align: top;\n",
              "    }\n",
              "\n",
              "    .dataframe thead th {\n",
              "        text-align: right;\n",
              "    }\n",
              "</style>\n",
              "<table border=\"1\" class=\"dataframe\">\n",
              "  <thead>\n",
              "    <tr style=\"text-align: right;\">\n",
              "      <th></th>\n",
              "      <th>ImageId</th>\n",
              "      <th>Label</th>\n",
              "    </tr>\n",
              "  </thead>\n",
              "  <tbody>\n",
              "    <tr>\n",
              "      <th>11703</th>\n",
              "      <td>11704</td>\n",
              "      <td>7</td>\n",
              "    </tr>\n",
              "    <tr>\n",
              "      <th>11152</th>\n",
              "      <td>11153</td>\n",
              "      <td>2</td>\n",
              "    </tr>\n",
              "    <tr>\n",
              "      <th>8663</th>\n",
              "      <td>8664</td>\n",
              "      <td>8</td>\n",
              "    </tr>\n",
              "    <tr>\n",
              "      <th>16449</th>\n",
              "      <td>16450</td>\n",
              "      <td>5</td>\n",
              "    </tr>\n",
              "    <tr>\n",
              "      <th>5729</th>\n",
              "      <td>5730</td>\n",
              "      <td>1</td>\n",
              "    </tr>\n",
              "  </tbody>\n",
              "</table>\n",
              "</div>\n",
              "      <button class=\"colab-df-convert\" onclick=\"convertToInteractive('df-5f72cc87-a253-441b-bc0e-2e7b133ab8ae')\"\n",
              "              title=\"Convert this dataframe to an interactive table.\"\n",
              "              style=\"display:none;\">\n",
              "\n",
              "  <svg xmlns=\"http://www.w3.org/2000/svg\" height=\"24px\"viewBox=\"0 0 24 24\"\n",
              "       width=\"24px\">\n",
              "    <path d=\"M0 0h24v24H0V0z\" fill=\"none\"/>\n",
              "    <path d=\"M18.56 5.44l.94 2.06.94-2.06 2.06-.94-2.06-.94-.94-2.06-.94 2.06-2.06.94zm-11 1L8.5 8.5l.94-2.06 2.06-.94-2.06-.94L8.5 2.5l-.94 2.06-2.06.94zm10 10l.94 2.06.94-2.06 2.06-.94-2.06-.94-.94-2.06-.94 2.06-2.06.94z\"/><path d=\"M17.41 7.96l-1.37-1.37c-.4-.4-.92-.59-1.43-.59-.52 0-1.04.2-1.43.59L10.3 9.45l-7.72 7.72c-.78.78-.78 2.05 0 2.83L4 21.41c.39.39.9.59 1.41.59.51 0 1.02-.2 1.41-.59l7.78-7.78 2.81-2.81c.8-.78.8-2.07 0-2.86zM5.41 20L4 18.59l7.72-7.72 1.47 1.35L5.41 20z\"/>\n",
              "  </svg>\n",
              "      </button>\n",
              "\n",
              "\n",
              "\n",
              "    <div id=\"df-3fe2c429-ada5-43c5-8688-b6ef6632941a\">\n",
              "      <button class=\"colab-df-quickchart\" onclick=\"quickchart('df-3fe2c429-ada5-43c5-8688-b6ef6632941a')\"\n",
              "              title=\"Suggest charts.\"\n",
              "              style=\"display:none;\">\n",
              "\n",
              "<svg xmlns=\"http://www.w3.org/2000/svg\" height=\"24px\"viewBox=\"0 0 24 24\"\n",
              "     width=\"24px\">\n",
              "    <g>\n",
              "        <path d=\"M19 3H5c-1.1 0-2 .9-2 2v14c0 1.1.9 2 2 2h14c1.1 0 2-.9 2-2V5c0-1.1-.9-2-2-2zM9 17H7v-7h2v7zm4 0h-2V7h2v10zm4 0h-2v-4h2v4z\"/>\n",
              "    </g>\n",
              "</svg>\n",
              "      </button>\n",
              "    </div>\n",
              "\n",
              "<style>\n",
              "  .colab-df-quickchart {\n",
              "    background-color: #E8F0FE;\n",
              "    border: none;\n",
              "    border-radius: 50%;\n",
              "    cursor: pointer;\n",
              "    display: none;\n",
              "    fill: #1967D2;\n",
              "    height: 32px;\n",
              "    padding: 0 0 0 0;\n",
              "    width: 32px;\n",
              "  }\n",
              "\n",
              "  .colab-df-quickchart:hover {\n",
              "    background-color: #E2EBFA;\n",
              "    box-shadow: 0px 1px 2px rgba(60, 64, 67, 0.3), 0px 1px 3px 1px rgba(60, 64, 67, 0.15);\n",
              "    fill: #174EA6;\n",
              "  }\n",
              "\n",
              "  [theme=dark] .colab-df-quickchart {\n",
              "    background-color: #3B4455;\n",
              "    fill: #D2E3FC;\n",
              "  }\n",
              "\n",
              "  [theme=dark] .colab-df-quickchart:hover {\n",
              "    background-color: #434B5C;\n",
              "    box-shadow: 0px 1px 3px 1px rgba(0, 0, 0, 0.15);\n",
              "    filter: drop-shadow(0px 1px 2px rgba(0, 0, 0, 0.3));\n",
              "    fill: #FFFFFF;\n",
              "  }\n",
              "</style>\n",
              "\n",
              "    <script>\n",
              "      async function quickchart(key) {\n",
              "        const containerElement = document.querySelector('#' + key);\n",
              "        const charts = await google.colab.kernel.invokeFunction(\n",
              "            'suggestCharts', [key], {});\n",
              "      }\n",
              "    </script>\n",
              "\n",
              "      <script>\n",
              "\n",
              "function displayQuickchartButton(domScope) {\n",
              "  let quickchartButtonEl =\n",
              "    domScope.querySelector('#df-3fe2c429-ada5-43c5-8688-b6ef6632941a button.colab-df-quickchart');\n",
              "  quickchartButtonEl.style.display =\n",
              "    google.colab.kernel.accessAllowed ? 'block' : 'none';\n",
              "}\n",
              "\n",
              "        displayQuickchartButton(document);\n",
              "      </script>\n",
              "      <style>\n",
              "    .colab-df-container {\n",
              "      display:flex;\n",
              "      flex-wrap:wrap;\n",
              "      gap: 12px;\n",
              "    }\n",
              "\n",
              "    .colab-df-convert {\n",
              "      background-color: #E8F0FE;\n",
              "      border: none;\n",
              "      border-radius: 50%;\n",
              "      cursor: pointer;\n",
              "      display: none;\n",
              "      fill: #1967D2;\n",
              "      height: 32px;\n",
              "      padding: 0 0 0 0;\n",
              "      width: 32px;\n",
              "    }\n",
              "\n",
              "    .colab-df-convert:hover {\n",
              "      background-color: #E2EBFA;\n",
              "      box-shadow: 0px 1px 2px rgba(60, 64, 67, 0.3), 0px 1px 3px 1px rgba(60, 64, 67, 0.15);\n",
              "      fill: #174EA6;\n",
              "    }\n",
              "\n",
              "    [theme=dark] .colab-df-convert {\n",
              "      background-color: #3B4455;\n",
              "      fill: #D2E3FC;\n",
              "    }\n",
              "\n",
              "    [theme=dark] .colab-df-convert:hover {\n",
              "      background-color: #434B5C;\n",
              "      box-shadow: 0px 1px 3px 1px rgba(0, 0, 0, 0.15);\n",
              "      filter: drop-shadow(0px 1px 2px rgba(0, 0, 0, 0.3));\n",
              "      fill: #FFFFFF;\n",
              "    }\n",
              "  </style>\n",
              "\n",
              "      <script>\n",
              "        const buttonEl =\n",
              "          document.querySelector('#df-5f72cc87-a253-441b-bc0e-2e7b133ab8ae button.colab-df-convert');\n",
              "        buttonEl.style.display =\n",
              "          google.colab.kernel.accessAllowed ? 'block' : 'none';\n",
              "\n",
              "        async function convertToInteractive(key) {\n",
              "          const element = document.querySelector('#df-5f72cc87-a253-441b-bc0e-2e7b133ab8ae');\n",
              "          const dataTable =\n",
              "            await google.colab.kernel.invokeFunction('convertToInteractive',\n",
              "                                                     [key], {});\n",
              "          if (!dataTable) return;\n",
              "\n",
              "          const docLinkHtml = 'Like what you see? Visit the ' +\n",
              "            '<a target=\"_blank\" href=https://colab.research.google.com/notebooks/data_table.ipynb>data table notebook</a>'\n",
              "            + ' to learn more about interactive tables.';\n",
              "          element.innerHTML = '';\n",
              "          dataTable['output_type'] = 'display_data';\n",
              "          await google.colab.output.renderOutput(dataTable, element);\n",
              "          const docLink = document.createElement('div');\n",
              "          docLink.innerHTML = docLinkHtml;\n",
              "          element.appendChild(docLink);\n",
              "        }\n",
              "      </script>\n",
              "    </div>\n",
              "  </div>\n"
            ]
          },
          "metadata": {},
          "execution_count": 76
        }
      ],
      "source": [
        "submission['Label'] = predict\n",
        "submission.sample(5)"
      ]
    },
    {
      "cell_type": "code",
      "execution_count": null,
      "metadata": {
        "id": "3cHUwdFVzwC0"
      },
      "outputs": [],
      "source": [
        "submission.to_csv('/content/drive/My Drive/digit_pred.csv', index=False)"
      ]
    },
    {
      "cell_type": "markdown",
      "source": [
        "# Conclusion"
      ],
      "metadata": {
        "id": "2uPiPVZOUudE"
      }
    },
    {
      "cell_type": "markdown",
      "source": [
        "The work's goal was to accurately identify digits from a dataset of tens of thousands of handwritten images. To achieve this, I developed an 9-layer Sequential Convolutional Neural Network using Sequential model from keras + RandomSearch from keras as well.\n",
        "\n",
        "Throughout the project, the data was preprocessed and split into training and testing sets to train and evaluate the model's performance. The CNN architecture was designed and fine-tuned.\n",
        "\n",
        "During the training process, the model learned to recognize patterns and features in the images that are characteristic of different digits. By iteratively adjusting the weights of the neural network, the model aimed to minimize the prediction errors and improve its ability to correctly classify digits.\n",
        "\n",
        "The success of the project was evaluated using accuracy. The final model was expected to achieve high accuracy on unseen data, demonstrating its capability to generalize well beyond the training set.\n",
        "\n",
        "I achieved 99.32% of accuracy with this CNN trained in about 2h, took the 289/1633 place and made it to the top 18%\n",
        "\n",
        "\n"
      ],
      "metadata": {
        "id": "EQofzyrPZnJF"
      }
    },
    {
      "cell_type": "markdown",
      "source": [
        "![dr.png](data:image/png;base64,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)"
      ],
      "metadata": {
        "id": "npJNN92prNlp"
      }
    }
  ],
  "metadata": {
    "colab": {
      "collapsed_sections": [
        "SjiE5USpLvd5",
        "dwVx2MOZMXWO",
        "J4IHnHGiLR92",
        "pUkJ_aVdUU6c",
        "3elAbtuq0U52"
      ],
      "provenance": [],
      "authorship_tag": "ABX9TyPNMO/ooXeJ8p8C/Z4Tj55F",
      "include_colab_link": true
    },
    "kernelspec": {
      "display_name": "Python 3",
      "name": "python3"
    },
    "language_info": {
      "name": "python"
    }
  },
  "nbformat": 4,
  "nbformat_minor": 0
}